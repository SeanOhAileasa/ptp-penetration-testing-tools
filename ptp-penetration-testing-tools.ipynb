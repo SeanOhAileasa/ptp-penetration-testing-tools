{
 "cells": [
  {
   "cell_type": "markdown",
   "id": "d4ee9e4b",
   "metadata": {},
   "source": [
    "***\n",
    "< [Home](https://github.com/SeanOhAileasa) | [README](https://github.com/SeanOhAileasa/ptp-penetration-testing-tools/blob/main/README.md) >\n",
    "\n",
    "## CompTIA PenTest+ - Course Material 2022\n",
    "###### Topic: ``Penetration Testing Tools``\n",
    "***"
   ]
  },
  {
   "cell_type": "markdown",
   "id": "b82b07fb",
   "metadata": {},
   "source": [
    "Course material for the ``CompTIA PenTest+`` module of the ``ICT Associate Apprenticeship (Cybersecurity)`` programme."
   ]
  },
  {
   "cell_type": "markdown",
   "id": "e7228f57",
   "metadata": {},
   "source": [
    "<a id=\"top\"></a>\n",
    "***\n",
    "## Table of Contents\n",
    "***"
   ]
  },
  {
   "cell_type": "markdown",
   "id": "c2bb5e7b",
   "metadata": {},
   "source": [
    "### [Penetration Testing Tools](#aa) <br/><br/>\n",
    "<hr width=50%;>"
   ]
  },
  {
   "cell_type": "markdown",
   "id": "8028139f",
   "metadata": {},
   "source": [
    "### [Comparing Use Cases](#A) <br/><br/>\n",
    "<hr width=50%;>"
   ]
  },
  {
   "cell_type": "markdown",
   "id": "59ae9d80",
   "metadata": {},
   "source": [
    "### [Using Nmap for Information Gathering](#B) <br/><br/>\n",
    "<hr width=50%;>"
   ]
  },
  {
   "cell_type": "markdown",
   "id": "bf7a7222",
   "metadata": {},
   "source": [
    "### [Working with Scanner Tools](#C) <br/><br/>\n",
    "<hr width=50%;>"
   ]
  },
  {
   "cell_type": "markdown",
   "id": "dabd9e6e",
   "metadata": {},
   "source": [
    "### [Working with Credential Testing Tools](#D) <br/><br/>\n",
    "<hr width=50%;>"
   ]
  },
  {
   "cell_type": "markdown",
   "id": "9b8c41f3",
   "metadata": {},
   "source": [
    "### [Debuggers and Software Assurance Tools](#E) <br/><br/>\n",
    "<hr width=50%;>"
   ]
  },
  {
   "cell_type": "markdown",
   "id": "c3569d3f",
   "metadata": {},
   "source": [
    "### [OSINT Tools](#F) <br/><br/>\n",
    "<hr width=50%;>"
   ]
  },
  {
   "cell_type": "markdown",
   "id": "72d153c6",
   "metadata": {},
   "source": [
    "### [Wireless Networking Tools](#G) <br/><br/>\n",
    "<hr width=50%;>"
   ]
  },
  {
   "cell_type": "markdown",
   "id": "3cd961f0",
   "metadata": {},
   "source": [
    "### [Networking Tools](#H) <br/><br/>\n",
    "<hr width=50%;>"
   ]
  },
  {
   "cell_type": "markdown",
   "id": "8219318d",
   "metadata": {},
   "source": [
    "### [Web Application Tools](#I) <br/><br/>\n",
    "<hr width=50%;>"
   ]
  },
  {
   "cell_type": "markdown",
   "id": "1bcd6cdf",
   "metadata": {},
   "source": [
    "### [Using Remote Access Tools](#J) <br/><br/>\n",
    "<hr width=50%;>"
   ]
  },
  {
   "cell_type": "markdown",
   "id": "28cb383e",
   "metadata": {},
   "source": [
    "### [Social Engineering Tools](#K) <br/><br/>\n",
    "<hr width=50%;>"
   ]
  },
  {
   "cell_type": "markdown",
   "id": "13d3a8e1",
   "metadata": {},
   "source": [
    "### [Miscellaneous Tools](#L) <br/><br/>\n",
    "<hr width=50%;>"
   ]
  },
  {
   "cell_type": "markdown",
   "id": "daeedd5c",
   "metadata": {},
   "source": [
    "### [Steganography Tools](#M) <br/><br/>\n",
    "<hr width=50%;>"
   ]
  },
  {
   "cell_type": "markdown",
   "id": "5aa25f90",
   "metadata": {},
   "source": [
    "### [Cloud Tools](#N) <br/><br/>\n",
    "<hr width=50%;>"
   ]
  },
  {
   "cell_type": "markdown",
   "id": "242c2402",
   "metadata": {},
   "source": [
    "### [Course Summary](#O) <br/><br/>\n",
    "<hr width=50%;>"
   ]
  },
  {
   "cell_type": "markdown",
   "id": "bf2b95e2",
   "metadata": {},
   "source": [
    "***\n",
    "## END"
   ]
  },
  {
   "cell_type": "markdown",
   "id": "34aa6eb5",
   "metadata": {},
   "source": [
    "< [Table of Contents](#top) | [References](#references) >\n",
    "<a id=\"aa\"></a>\n",
    "***\n",
    "### Penetration Testing Tools\n",
    "***"
   ]
  },
  {
   "cell_type": "markdown",
   "id": "f87b6239",
   "metadata": {},
   "source": []
  },
  {
   "cell_type": "markdown",
   "id": "7a1a1391",
   "metadata": {},
   "source": [
    "< [Table of Contents](#top) | [References](#references) >\n",
    "<a id=\"A\"></a>\n",
    "***\n",
    "### Comparing Use Cases\n",
    "*** "
   ]
  },
  {
   "cell_type": "markdown",
   "id": "2079fe5c",
   "metadata": {},
   "source": []
  },
  {
   "cell_type": "markdown",
   "id": "6ff54e22",
   "metadata": {},
   "source": [
    "< [Table of Contents](#top) | [References](#references) >\n",
    "<a id=\"B\"></a>\n",
    "***\n",
    "### Using Nmap for Information Gathering\n",
    "*** "
   ]
  },
  {
   "cell_type": "markdown",
   "id": "de3107b5",
   "metadata": {},
   "source": []
  },
  {
   "cell_type": "markdown",
   "id": "f033c84a",
   "metadata": {},
   "source": [
    "< [Table of Contents](#top) | [References](#references) >\n",
    "<a id=\"C\"></a>\n",
    "***\n",
    "### Working with Scanner Tools\n",
    "*** "
   ]
  },
  {
   "cell_type": "markdown",
   "id": "5578b6bd",
   "metadata": {},
   "source": []
  },
  {
   "cell_type": "markdown",
   "id": "4ed3bb74",
   "metadata": {},
   "source": [
    "< [Table of Contents](#top) | [References](#references) >\n",
    "<a id=\"D\"></a>\n",
    "***\n",
    "### Working with Credential Testing Tools\n",
    "*** "
   ]
  },
  {
   "cell_type": "markdown",
   "id": "4e58eca5",
   "metadata": {},
   "source": []
  },
  {
   "cell_type": "markdown",
   "id": "849af187",
   "metadata": {},
   "source": [
    "< [Table of Contents](#top) | [References](#references) >\n",
    "<a id=\"E\"></a>\n",
    "***\n",
    "### Debuggers and Software Assurance Tools\n",
    "*** "
   ]
  },
  {
   "cell_type": "markdown",
   "id": "e9b6d651",
   "metadata": {},
   "source": []
  },
  {
   "cell_type": "markdown",
   "id": "d7bd04ef",
   "metadata": {},
   "source": [
    "< [Table of Contents](#top) | [References](#references) >\n",
    "<a id=\"F\"></a>\n",
    "***\n",
    "### OSINT Tools\n",
    "*** "
   ]
  },
  {
   "cell_type": "markdown",
   "id": "66b7c4e0",
   "metadata": {},
   "source": []
  },
  {
   "cell_type": "markdown",
   "id": "4b92f4d8",
   "metadata": {},
   "source": [
    "< [Table of Contents](#top) | [References](#references) >\n",
    "<a id=\"G\"></a>\n",
    "***\n",
    "### Wireless Networking Tools\n",
    "*** "
   ]
  },
  {
   "cell_type": "markdown",
   "id": "1c118f70",
   "metadata": {},
   "source": []
  },
  {
   "cell_type": "markdown",
   "id": "33efc01c",
   "metadata": {},
   "source": [
    "< [Table of Contents](#top) | [References](#references) >\n",
    "<a id=\"H\"></a>\n",
    "***\n",
    "### Networking Tools\n",
    "*** "
   ]
  },
  {
   "cell_type": "markdown",
   "id": "a4187cb3",
   "metadata": {},
   "source": []
  },
  {
   "cell_type": "markdown",
   "id": "26bf4b6c",
   "metadata": {},
   "source": [
    "< [Table of Contents](#top) | [References](#references) >\n",
    "<a id=\"I\"></a>\n",
    "***\n",
    "### Web Application Tools\n",
    "*** "
   ]
  },
  {
   "cell_type": "markdown",
   "id": "4d1d3c30",
   "metadata": {},
   "source": []
  },
  {
   "cell_type": "markdown",
   "id": "dfbc19d1",
   "metadata": {},
   "source": [
    "< [Table of Contents](#top) | [References](#references) >\n",
    "<a id=\"J\"></a>\n",
    "***\n",
    "### Using Remote Access Tools\n",
    "*** "
   ]
  },
  {
   "cell_type": "markdown",
   "id": "48ad5110",
   "metadata": {},
   "source": []
  },
  {
   "cell_type": "markdown",
   "id": "4d1d3047",
   "metadata": {},
   "source": [
    "< [Table of Contents](#top) | [References](#references) >\n",
    "<a id=\"K\"></a>\n",
    "***\n",
    "### Social Engineering Tools\n",
    "*** "
   ]
  },
  {
   "cell_type": "markdown",
   "id": "b9e20031",
   "metadata": {},
   "source": []
  },
  {
   "cell_type": "markdown",
   "id": "ac383c44",
   "metadata": {},
   "source": [
    "< [Table of Contents](#top) | [References](#references) >\n",
    "<a id=\"L\"></a>\n",
    "***\n",
    "### Miscellaneous Tools\n",
    "*** "
   ]
  },
  {
   "cell_type": "markdown",
   "id": "9e682553",
   "metadata": {},
   "source": []
  },
  {
   "cell_type": "markdown",
   "id": "92191b31",
   "metadata": {},
   "source": [
    "< [Table of Contents](#top) | [References](#references) >\n",
    "<a id=\"M\"></a>\n",
    "***\n",
    "### Steganography Tools\n",
    "*** "
   ]
  },
  {
   "cell_type": "markdown",
   "id": "4a301fe3",
   "metadata": {},
   "source": []
  },
  {
   "cell_type": "markdown",
   "id": "4184670a",
   "metadata": {},
   "source": [
    "< [Table of Contents](#top) | [References](#references) >\n",
    "<a id=\"N\"></a>\n",
    "***\n",
    "### Cloud Tools\n",
    "*** "
   ]
  },
  {
   "cell_type": "markdown",
   "id": "12e87b8d",
   "metadata": {},
   "source": []
  },
  {
   "cell_type": "markdown",
   "id": "173e78b5",
   "metadata": {},
   "source": [
    "< [Table of Contents](#top) | [References](#references) >\n",
    "<a id=\"O\"></a>\n",
    "***\n",
    "### Course Summary\n",
    "*** "
   ]
  },
  {
   "cell_type": "markdown",
   "id": "26d9a72b",
   "metadata": {},
   "source": []
  },
  {
   "cell_type": "markdown",
   "id": "2cc20932",
   "metadata": {},
   "source": [
    "***\n",
    "## END"
   ]
  },
  {
   "cell_type": "markdown",
   "id": "e0e42d51",
   "metadata": {},
   "source": [
    "< [Table of Contents](#top) >\n",
    "<a id=\"references\"></a>\n",
    "***\n",
    "## References\n",
    "***"
   ]
  },
  {
   "cell_type": "markdown",
   "id": "757bf6de",
   "metadata": {},
   "source": [
    "&nbsp;&nbsp;&nbsp;&nbsp;&nbsp;&nbsp;&nbsp;&nbsp;&nbsp;skillsoft, \"Penetration Testing Tools,\" [skillsoft.com](https://web.archive.org/web/20220403100053/https://www.skillsoft.com/), n.d.."
   ]
  },
  {
   "cell_type": "markdown",
   "id": "b33c372a",
   "metadata": {},
   "source": [
    "***\n",
    "## END"
   ]
  },
  {
   "cell_type": "markdown",
   "id": "e5961b4d",
   "metadata": {},
   "source": [
    "< [Table of Contents](#top) | [References](#references) >\n",
    "<a id=\"appendix\"></a>\n",
    "***\n",
    "## Appendix\n",
    "***"
   ]
  },
  {
   "cell_type": "markdown",
   "id": "00d82a82",
   "metadata": {},
   "source": [
    "***\n",
    "## END"
   ]
  },
  {
   "cell_type": "code",
   "execution_count": 1,
   "id": "706756a2",
   "metadata": {},
   "outputs": [
    {
     "name": "stderr",
     "output_type": "stream",
     "text": [
      "C:\\Users\\SeanOhAileasa\\AppData\\Local\\Temp\\ipykernel_21264\\1322614208.py:1: DeprecationWarning: Importing display from IPython.core.display is deprecated since IPython 7.14, please import from IPython display\n",
      "  from IPython.core.display import display,HTML\n"
     ]
    },
    {
     "data": {
      "text/html": [
       "<style>.container { width:100% !important; }</style>"
      ],
      "text/plain": [
       "<IPython.core.display.HTML object>"
      ]
     },
     "metadata": {},
     "output_type": "display_data"
    }
   ],
   "source": [
    "from IPython.core.display import display,HTML\n",
    "display(HTML(\"<style>.container { width:100% !important; }</style>\"))"
   ]
  },
  {
   "cell_type": "markdown",
   "id": "899c1783",
   "metadata": {},
   "source": [
    "# END JUPYTER NOTEBOOK"
   ]
  }
 ],
 "metadata": {
  "kernelspec": {
   "display_name": "Python 3 (ipykernel)",
   "language": "python",
   "name": "python3"
  },
  "language_info": {
   "codemirror_mode": {
    "name": "ipython",
    "version": 3
   },
   "file_extension": ".py",
   "mimetype": "text/x-python",
   "name": "python",
   "nbconvert_exporter": "python",
   "pygments_lexer": "ipython3",
   "version": "3.9.12"
  }
 },
 "nbformat": 4,
 "nbformat_minor": 5
}
